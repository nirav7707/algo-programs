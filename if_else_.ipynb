{
  "nbformat": 4,
  "nbformat_minor": 0,
  "metadata": {
    "colab": {
      "name": "if else .ipynb",
      "provenance": [],
      "collapsed_sections": [],
      "authorship_tag": "ABX9TyMUuHeRtryfJV3ZawUh3wpF",
      "include_colab_link": true
    },
    "kernelspec": {
      "name": "python3",
      "display_name": "Python 3"
    }
  },
  "cells": [
    {
      "cell_type": "markdown",
      "metadata": {
        "id": "view-in-github",
        "colab_type": "text"
      },
      "source": [
        "<a href=\"https://colab.research.google.com/github/nirav7707/algo-programs/blob/master/if_else_.ipynb\" target=\"_parent\"><img src=\"https://colab.research.google.com/assets/colab-badge.svg\" alt=\"Open In Colab\"/></a>"
      ]
    },
    {
      "cell_type": "code",
      "metadata": {
        "id": "I6eALpbwPW-h",
        "colab_type": "code",
        "colab": {
          "base_uri": "https://localhost:8080/",
          "height": 51
        },
        "outputId": "e67469ed-147d-4948-c3ec-7feef8730950"
      },
      "source": [
        "x=int(input(\"enter value\"))\n",
        "\n",
        "if x<0:\n",
        "  print(\"nagative\")\n",
        "elif x==0:\n",
        "  print('number is Zero')\n",
        "else:\n",
        "  print('positive')"
      ],
      "execution_count": null,
      "outputs": [
        {
          "output_type": "stream",
          "text": [
            "enter value1\n",
            "positive\n"
          ],
          "name": "stdout"
        }
      ]
    },
    {
      "cell_type": "code",
      "metadata": {
        "id": "ZMvDb9YKPvDa",
        "colab_type": "code",
        "colab": {
          "base_uri": "https://localhost:8080/",
          "height": 51
        },
        "outputId": "0d74f511-4cca-4ec4-dfdc-4b5f90145754"
      },
      "source": [
        "x=int(input(\"enter value\"))\n",
        "\n",
        "if x%2==0:\n",
        "  print(x,\" even number\")\n",
        "else:\n",
        "  print(x,\"odd number\")"
      ],
      "execution_count": null,
      "outputs": [
        {
          "output_type": "stream",
          "text": [
            "enter value5\n",
            "5 odd number\n"
          ],
          "name": "stdout"
        }
      ]
    },
    {
      "cell_type": "markdown",
      "metadata": {
        "id": "Dc-LdOTcSP3d",
        "colab_type": "text"
      },
      "source": [
        "**list confrehansive**\n"
      ]
    },
    {
      "cell_type": "code",
      "metadata": {
        "id": "k9iGbKGURgf7",
        "colab_type": "code",
        "colab": {
          "base_uri": "https://localhost:8080/",
          "height": 34
        },
        "outputId": "36eca13e-a2ab-4dd3-9e9d-72ac507cecf3"
      },
      "source": [
        "x=[i for i in range(10) if i%2==0 ]\n",
        "print(x)"
      ],
      "execution_count": null,
      "outputs": [
        {
          "output_type": "stream",
          "text": [
            "[0, 2, 4, 6, 8]\n"
          ],
          "name": "stdout"
        }
      ]
    },
    {
      "cell_type": "code",
      "metadata": {
        "id": "wUsVh0BuRstv",
        "colab_type": "code",
        "colab": {
          "base_uri": "https://localhost:8080/",
          "height": 34
        },
        "outputId": "d2f72b84-d262-4f63-dabc-898ea331fad0"
      },
      "source": [
        "x=5\n",
        "z=x\n",
        "print(z==x)"
      ],
      "execution_count": null,
      "outputs": [
        {
          "output_type": "stream",
          "text": [
            "True\n"
          ],
          "name": "stdout"
        }
      ]
    },
    {
      "cell_type": "markdown",
      "metadata": {
        "id": "TmST2RaGBX29",
        "colab_type": "text"
      },
      "source": [
        "# **25 /08 /2020** "
      ]
    },
    {
      "cell_type": "code",
      "metadata": {
        "id": "WcuW3H9XSA87",
        "colab_type": "code",
        "colab": {
          "base_uri": "https://localhost:8080/",
          "height": 187
        },
        "outputId": "0ca21974-7ef5-4463-fb8d-33637a901ea8"
      },
      "source": [
        "name = input(\" enter your name \")\n",
        "marklist = [ int(x) for x in input(\"enter marke by order math science hindi separating by space =>\").split(\" \")   ]\n",
        "\n",
        "if all([(x>=0 and x<=100) for x in marklist]):\n",
        "      print(\"***** Marksheet of {} *****\".format(name))\n",
        "      print('math',marklist[0])\n",
        "      print('science',marklist[1])\n",
        "      print('hindi',marklist[2])\n",
        "      print('total',sum(marklist))\n",
        "      avg=sum(marklist)/len(marklist)\n",
        "      print(\"avg{:.2f}\".format(avg))\n",
        "      print('class A') if avg>71 and avg<100 else (print('class B') if avg>61 and avg<70 else (print('class C') if avg >51 and avg<60 else print(\"below 50\")))\n",
        "else:\n",
        "  print(\"enter positive value and lessthen 100\")\n",
        "\n",
        "\n",
        "print([(x>=0 and x<=100) for x in marklist])"
      ],
      "execution_count": 36,
      "outputs": [
        {
          "output_type": "stream",
          "text": [
            " enter your name 50 50 50\n",
            "enter marke by order math science hindi separating by space =>50 50 50\n",
            "***** Marksheet of 50 50 50 *****\n",
            "math 50\n",
            "science 50\n",
            "hindi 50\n",
            "total 150\n",
            "avg50.00\n",
            "below 50\n",
            "[True, True, True]\n"
          ],
          "name": "stdout"
        }
      ]
    },
    {
      "cell_type": "code",
      "metadata": {
        "id": "hidwURjbLEJH",
        "colab_type": "code",
        "colab": {
          "base_uri": "https://localhost:8080/",
          "height": 255
        },
        "outputId": "ded5f74b-64ab-45aa-edb8-9f21b0a6c6dc"
      },
      "source": [
        "Subjects = [\"math\",\"science\",\"hindi\"]\n",
        "marklist=[]\n",
        "\n",
        "print(\"marksheet of {}\".format(input(\"input name\")))\n",
        "for x in Subjects:\n",
        "  while True:\n",
        "      subject = int(input(\"please enter {} subject mark\".format(x)))\n",
        "      if (subject>=0 and subject<=100):\n",
        "        marklist.append(subject) \n",
        "        break \n",
        "      else:\n",
        "        print(\"{} id=s not valid marks enter valid {} marks\".format(subject,x))\n",
        "        continue\n",
        "print('')\n",
        "for i in range(len(Subjects)):\n",
        "  print(\"{} marks is {}\".format(Subjects[i],marklist[i]))\n",
        "print(\"Toatl marks is \",sum(marklist))\n",
        "avg=sum(marklist)/len(marklist)\n",
        "print(\"avg{:.2f}\".format(avg))\n",
        "print('class A') if avg>71 and avg<100 else (print('class B') if avg>61 and avg<70 else (print('class C') if avg >51 and avg<60 else print(\"below 50\")))"
      ],
      "execution_count": 17,
      "outputs": [
        {
          "output_type": "stream",
          "text": [
            "input namenirav\n",
            "marksheet of nirav\n",
            "please enter math subject mark105\n",
            "105 id=s not valid marks enter valid math marks\n",
            "please enter math subject mark20\n",
            "please enter science subject mark20\n",
            "please enter hindi subject mark90\n",
            "\n",
            "math marks is 20\n",
            "science marks is 20\n",
            "hindi marks is 90\n",
            "Toatl marks is  130\n",
            "avg43.33\n",
            "below 50\n"
          ],
          "name": "stdout"
        }
      ]
    }
  ]
}